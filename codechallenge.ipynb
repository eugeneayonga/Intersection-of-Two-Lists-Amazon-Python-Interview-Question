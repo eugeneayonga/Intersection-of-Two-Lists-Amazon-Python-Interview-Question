{
 "cells": [
  {
   "cell_type": "code",
   "execution_count": 10,
   "metadata": {},
   "outputs": [
    {
     "name": "stdout",
     "output_type": "stream",
     "text": [
      "[]\n"
     ]
    }
   ],
   "source": [
    "\"\"\"Intersection of Two Lists [Amazon Python Interview Question]\n",
    "\n",
    "Write a function to get the intersection of two lists.\n",
    "\n",
    "For example, if A = [1, 2, 3, 4, 5], and B = [0, 1, 3, 7] then you should return [1, 3].\n",
    "\n",
    "\"\"\"\n",
    "\n",
    "# import statements\n",
    "import math\n",
    "\n",
    "# list definitions\n",
    "a = [1, 2, 3, 4, 5]\n",
    "b = [0, 1, 3, 7]\n",
    "\n",
    "# function definition --> expected to return [1, 3]\n",
    "def intersection(a, b):\n",
    "    # list sets\n",
    "    set_list_a = set(a)\n",
    "    set_list_b = set(b)\n",
    "\n",
    "    # Sets intersection\n",
    "    set_list_a_and_set_list_b_intersection = set_list_a.intersection(set_list_b)\n",
    "    return list(set_list_a_and_set_list_b_intersection)\n",
    "\n",
    "# function call\n",
    "print(intersection(a, b))"
   ]
  }
 ],
 "metadata": {
  "kernelspec": {
   "display_name": "Python 3",
   "language": "python",
   "name": "python3"
  },
  "language_info": {
   "codemirror_mode": {
    "name": "ipython",
    "version": 3
   },
   "file_extension": ".py",
   "mimetype": "text/x-python",
   "name": "python",
   "nbconvert_exporter": "python",
   "pygments_lexer": "ipython3",
   "version": "3.9.6"
  }
 },
 "nbformat": 4,
 "nbformat_minor": 2
}
